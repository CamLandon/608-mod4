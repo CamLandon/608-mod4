{
 "cells": [
  {
   "cell_type": "code",
   "execution_count": 1,
   "id": "7f4fa5b6-3856-486b-b67a-f293cc2d762f",
   "metadata": {},
   "outputs": [],
   "source": [
    "c = [-45,6,0,72,1543]"
   ]
  },
  {
   "cell_type": "code",
   "execution_count": 2,
   "id": "94b933ce-f503-4b67-a3c0-03b89d435bd8",
   "metadata": {},
   "outputs": [
    {
     "data": {
      "text/plain": [
       "[-45, 6, 0, 72, 1543]"
      ]
     },
     "execution_count": 2,
     "metadata": {},
     "output_type": "execute_result"
    }
   ],
   "source": [
    "c"
   ]
  },
  {
   "cell_type": "code",
   "execution_count": 3,
   "id": "f8519b38-08ba-4b45-bd4e-2558da2aee32",
   "metadata": {},
   "outputs": [],
   "source": [
    "c = ['Cameron','Landon',123, 2022]"
   ]
  },
  {
   "cell_type": "code",
   "execution_count": 4,
   "id": "b7983394-e11b-44ee-a5b1-3d2335c6d7c1",
   "metadata": {},
   "outputs": [
    {
     "data": {
      "text/plain": [
       "['Cameron', 'Landon', 123, 2022]"
      ]
     },
     "execution_count": 4,
     "metadata": {},
     "output_type": "execute_result"
    }
   ],
   "source": [
    "c"
   ]
  },
  {
   "cell_type": "code",
   "execution_count": 5,
   "id": "2364a4c8-ee23-4b2e-b3d0-0951acf581ce",
   "metadata": {},
   "outputs": [
    {
     "data": {
      "text/plain": [
       "'Cameron'"
      ]
     },
     "execution_count": 5,
     "metadata": {},
     "output_type": "execute_result"
    }
   ],
   "source": [
    "c[0]"
   ]
  },
  {
   "cell_type": "code",
   "execution_count": 6,
   "id": "4b7e4821-8b8f-4138-9323-f841b5416312",
   "metadata": {},
   "outputs": [
    {
     "ename": "TypeError",
     "evalue": "list indices must be integers or slices, not tuple",
     "output_type": "error",
     "traceback": [
      "\u001b[1;31m---------------------------------------------------------------------------\u001b[0m",
      "\u001b[1;31mTypeError\u001b[0m                                 Traceback (most recent call last)",
      "Input \u001b[1;32mIn [6]\u001b[0m, in \u001b[0;36m<cell line: 1>\u001b[1;34m()\u001b[0m\n\u001b[1;32m----> 1\u001b[0m \u001b[43mc\u001b[49m\u001b[43m[\u001b[49m\u001b[38;5;241;43m0\u001b[39;49m\u001b[43m,\u001b[49m\u001b[38;5;241;43m1\u001b[39;49m\u001b[43m]\u001b[49m\n",
      "\u001b[1;31mTypeError\u001b[0m: list indices must be integers or slices, not tuple"
     ]
    }
   ],
   "source": [
    "c[0,1]"
   ]
  },
  {
   "cell_type": "code",
   "execution_count": 7,
   "id": "b694405b-3c89-49ea-b4a6-98931f999011",
   "metadata": {},
   "outputs": [
    {
     "data": {
      "text/plain": [
       "4"
      ]
     },
     "execution_count": 7,
     "metadata": {},
     "output_type": "execute_result"
    }
   ],
   "source": [
    "len(c)"
   ]
  },
  {
   "cell_type": "code",
   "execution_count": 8,
   "id": "b112b1c5-ee12-437b-baa4-e811415fa6d3",
   "metadata": {},
   "outputs": [],
   "source": [
    "c[2] = '10.09'"
   ]
  },
  {
   "cell_type": "code",
   "execution_count": 9,
   "id": "0ea36a3a-e1f9-451b-b2e4-6c13e6be6a57",
   "metadata": {},
   "outputs": [
    {
     "data": {
      "text/plain": [
       "['Cameron', 'Landon', '10.09', 2022]"
      ]
     },
     "execution_count": 9,
     "metadata": {},
     "output_type": "execute_result"
    }
   ],
   "source": [
    "c"
   ]
  },
  {
   "cell_type": "code",
   "execution_count": 10,
   "id": "da317dca-d959-4ac5-ba7f-ff44d6c03d45",
   "metadata": {},
   "outputs": [],
   "source": [
    "c[2] = 10.09"
   ]
  },
  {
   "cell_type": "code",
   "execution_count": 11,
   "id": "30a6b6a8-a349-4df4-9451-6b3003312a75",
   "metadata": {},
   "outputs": [
    {
     "data": {
      "text/plain": [
       "['Cameron', 'Landon', 10.09, 2022]"
      ]
     },
     "execution_count": 11,
     "metadata": {},
     "output_type": "execute_result"
    }
   ],
   "source": [
    "c"
   ]
  },
  {
   "cell_type": "code",
   "execution_count": 12,
   "id": "a591a1d8-b9f0-4360-b316-b4a2d7d0af3c",
   "metadata": {},
   "outputs": [],
   "source": [
    "l = 'Cameron'"
   ]
  },
  {
   "cell_type": "code",
   "execution_count": 13,
   "id": "4dc090d9-788c-4986-b262-3ee6cbc4b691",
   "metadata": {},
   "outputs": [
    {
     "data": {
      "text/plain": [
       "'Cameron'"
      ]
     },
     "execution_count": 13,
     "metadata": {},
     "output_type": "execute_result"
    }
   ],
   "source": [
    "l"
   ]
  },
  {
   "cell_type": "code",
   "execution_count": 14,
   "id": "bdbbb95c-fa05-4631-99f0-cdbd16d1fdd4",
   "metadata": {},
   "outputs": [
    {
     "data": {
      "text/plain": [
       "'C'"
      ]
     },
     "execution_count": 14,
     "metadata": {},
     "output_type": "execute_result"
    }
   ],
   "source": [
    "l[0]"
   ]
  },
  {
   "cell_type": "code",
   "execution_count": 15,
   "id": "bc20fb40-7006-4eb8-817a-8d872e370cc3",
   "metadata": {},
   "outputs": [
    {
     "ename": "TypeError",
     "evalue": "'str' object does not support item assignment",
     "output_type": "error",
     "traceback": [
      "\u001b[1;31m---------------------------------------------------------------------------\u001b[0m",
      "\u001b[1;31mTypeError\u001b[0m                                 Traceback (most recent call last)",
      "Input \u001b[1;32mIn [15]\u001b[0m, in \u001b[0;36m<cell line: 1>\u001b[1;34m()\u001b[0m\n\u001b[1;32m----> 1\u001b[0m \u001b[43ml\u001b[49m\u001b[43m[\u001b[49m\u001b[38;5;241;43m0\u001b[39;49m\u001b[43m]\u001b[49m \u001b[38;5;241m=\u001b[39m \u001b[38;5;124m'\u001b[39m\u001b[38;5;124mK\u001b[39m\u001b[38;5;124m'\u001b[39m\n",
      "\u001b[1;31mTypeError\u001b[0m: 'str' object does not support item assignment"
     ]
    }
   ],
   "source": [
    "l[0] = 'K'"
   ]
  },
  {
   "cell_type": "code",
   "execution_count": 16,
   "id": "c514f925-65e1-4ba1-8428-78ddb68937c9",
   "metadata": {},
   "outputs": [],
   "source": [
    "# Cannot \"edit\" a string"
   ]
  },
  {
   "cell_type": "code",
   "execution_count": 17,
   "id": "1f212f63-f6ec-413a-ae69-9b688d9c0869",
   "metadata": {},
   "outputs": [
    {
     "data": {
      "text/plain": [
       "2032.09"
      ]
     },
     "execution_count": 17,
     "metadata": {},
     "output_type": "execute_result"
    }
   ],
   "source": [
    "c[2] + c[3]"
   ]
  },
  {
   "cell_type": "code",
   "execution_count": 18,
   "id": "aed8f53b-2257-4bf7-ba2d-44f04de0e8be",
   "metadata": {},
   "outputs": [],
   "source": [
    "a_list = []"
   ]
  },
  {
   "cell_type": "code",
   "execution_count": 20,
   "id": "c5de2734-3fd7-4cf8-9bd1-af7c55b1fa11",
   "metadata": {},
   "outputs": [],
   "source": [
    "for number in range(1, 6):\n",
    "    a_list += [number]\n",
    "    "
   ]
  },
  {
   "cell_type": "code",
   "execution_count": 21,
   "id": "f689c51a-16ac-4818-a049-303d4c9dfabe",
   "metadata": {},
   "outputs": [
    {
     "data": {
      "text/plain": [
       "[1, 2, 3, 4, 5]"
      ]
     },
     "execution_count": 21,
     "metadata": {},
     "output_type": "execute_result"
    }
   ],
   "source": [
    "a_list"
   ]
  },
  {
   "cell_type": "code",
   "execution_count": 22,
   "id": "09f46b29-ce72-4379-afe4-628b2b4dc1b0",
   "metadata": {},
   "outputs": [],
   "source": [
    "letters = []"
   ]
  },
  {
   "cell_type": "code",
   "execution_count": 23,
   "id": "10a84ccf-643b-47fe-a041-f95d475f6525",
   "metadata": {},
   "outputs": [],
   "source": [
    "letters += 'Python'"
   ]
  },
  {
   "cell_type": "code",
   "execution_count": 24,
   "id": "b5bcae75-dff2-4fb9-a2e2-3579ea7078d9",
   "metadata": {},
   "outputs": [
    {
     "data": {
      "text/plain": [
       "['P', 'y', 't', 'h', 'o', 'n']"
      ]
     },
     "execution_count": 24,
     "metadata": {},
     "output_type": "execute_result"
    }
   ],
   "source": [
    "letters"
   ]
  },
  {
   "cell_type": "code",
   "execution_count": null,
   "id": "d35b233a-6c9e-4d08-82bd-82ff177edb12",
   "metadata": {},
   "outputs": [],
   "source": []
  },
  {
   "cell_type": "code",
   "execution_count": null,
   "id": "f737bb7a-1185-4553-9bae-15de9cf41194",
   "metadata": {},
   "outputs": [],
   "source": []
  },
  {
   "cell_type": "code",
   "execution_count": 25,
   "id": "6967d822-ad5a-4a7e-87a7-f570c503e641",
   "metadata": {},
   "outputs": [],
   "source": [
    "#Concatenate Lists"
   ]
  },
  {
   "cell_type": "code",
   "execution_count": 26,
   "id": "fed9ebf3-8ab0-4219-ab0f-3efb963bdf52",
   "metadata": {},
   "outputs": [],
   "source": [
    "list1 = [10, 20, 30]"
   ]
  },
  {
   "cell_type": "code",
   "execution_count": 27,
   "id": "d9cb51bc-a28f-4bcb-bbd0-fdb95770a5cc",
   "metadata": {},
   "outputs": [],
   "source": [
    "list2 = [40, 50, 60]"
   ]
  },
  {
   "cell_type": "code",
   "execution_count": 28,
   "id": "839f8f95-42e1-4ad0-a439-11b4cf704ac7",
   "metadata": {},
   "outputs": [],
   "source": [
    "concatenated_list = list1 + list2"
   ]
  },
  {
   "cell_type": "code",
   "execution_count": 29,
   "id": "99b3ddd6-490c-4a9e-8ac0-cd11aa1e75db",
   "metadata": {},
   "outputs": [
    {
     "data": {
      "text/plain": [
       "[10, 20, 30, 40, 50, 60]"
      ]
     },
     "execution_count": 29,
     "metadata": {},
     "output_type": "execute_result"
    }
   ],
   "source": [
    "concatenated_list"
   ]
  },
  {
   "cell_type": "code",
   "execution_count": 30,
   "id": "1aaa34a6-faf5-44fb-801a-2b7b0bc6d7e5",
   "metadata": {},
   "outputs": [
    {
     "name": "stdout",
     "output_type": "stream",
     "text": [
      "0: 10\n",
      "1: 20\n",
      "2: 30\n",
      "3: 40\n",
      "4: 50\n",
      "5: 60\n"
     ]
    }
   ],
   "source": [
    "for i in range(len(concatenated_list)):\n",
    "    print(f'{i}: {concatenated_list[i]}')\n",
    "    "
   ]
  },
  {
   "cell_type": "code",
   "execution_count": null,
   "id": "894d3867-edd7-4131-a0f3-f4bd268fd26d",
   "metadata": {},
   "outputs": [],
   "source": []
  },
  {
   "cell_type": "code",
   "execution_count": 31,
   "id": "501d5789-cac3-42bc-8c17-aed92b34476a",
   "metadata": {},
   "outputs": [],
   "source": [
    "a = [1, 2, 3]"
   ]
  },
  {
   "cell_type": "code",
   "execution_count": 32,
   "id": "afa6e2ac-db5a-4e9d-b388-f3f2869ae8b6",
   "metadata": {},
   "outputs": [],
   "source": [
    "b = [1, 2, 3]"
   ]
  },
  {
   "cell_type": "code",
   "execution_count": 34,
   "id": "0f68ffcf-36fd-4e3a-ab16-8cea0f54c7d3",
   "metadata": {},
   "outputs": [],
   "source": [
    "c = [1, 2, 3, 4]"
   ]
  },
  {
   "cell_type": "code",
   "execution_count": 35,
   "id": "c5dad4ac-fb34-45b7-9330-a27b1e64bedb",
   "metadata": {},
   "outputs": [
    {
     "data": {
      "text/plain": [
       "True"
      ]
     },
     "execution_count": 35,
     "metadata": {},
     "output_type": "execute_result"
    }
   ],
   "source": [
    "a == b"
   ]
  },
  {
   "cell_type": "code",
   "execution_count": 36,
   "id": "4d0723d4-4438-4572-be2f-88b6437f5b7f",
   "metadata": {},
   "outputs": [
    {
     "data": {
      "text/plain": [
       "False"
      ]
     },
     "execution_count": 36,
     "metadata": {},
     "output_type": "execute_result"
    }
   ],
   "source": [
    "a == c"
   ]
  },
  {
   "cell_type": "code",
   "execution_count": 37,
   "id": "63d256b7-d61d-4363-9dd6-516134af1434",
   "metadata": {},
   "outputs": [
    {
     "data": {
      "text/plain": [
       "True"
      ]
     },
     "execution_count": 37,
     "metadata": {},
     "output_type": "execute_result"
    }
   ],
   "source": [
    "a < c"
   ]
  },
  {
   "cell_type": "code",
   "execution_count": 38,
   "id": "33456d22-0bec-46cb-99ea-2047f7dbef95",
   "metadata": {},
   "outputs": [
    {
     "data": {
      "text/plain": [
       "True"
      ]
     },
     "execution_count": 38,
     "metadata": {},
     "output_type": "execute_result"
    }
   ],
   "source": [
    "c >= b"
   ]
  },
  {
   "cell_type": "code",
   "execution_count": null,
   "id": "8d0fcc73-00e7-4748-a406-38eba3259728",
   "metadata": {},
   "outputs": [],
   "source": []
  },
  {
   "cell_type": "code",
   "execution_count": 1,
   "id": "02cc9927-c93f-45d6-a77f-3d16644c5e94",
   "metadata": {},
   "outputs": [],
   "source": [
    "# 5.3 Tuples"
   ]
  },
  {
   "cell_type": "code",
   "execution_count": 2,
   "id": "ac6e0f12-fde8-4a5c-9ff7-8e24dde6929e",
   "metadata": {},
   "outputs": [],
   "source": [
    "student_tuple = ()"
   ]
  },
  {
   "cell_type": "code",
   "execution_count": 3,
   "id": "06f8ad81-3d10-49fc-8b4c-fec72e9ff1dc",
   "metadata": {},
   "outputs": [
    {
     "data": {
      "text/plain": [
       "()"
      ]
     },
     "execution_count": 3,
     "metadata": {},
     "output_type": "execute_result"
    }
   ],
   "source": [
    "student_tuple"
   ]
  },
  {
   "cell_type": "code",
   "execution_count": 4,
   "id": "6664685e-112a-4b7f-b1c3-f4593853163a",
   "metadata": {},
   "outputs": [
    {
     "data": {
      "text/plain": [
       "0"
      ]
     },
     "execution_count": 4,
     "metadata": {},
     "output_type": "execute_result"
    }
   ],
   "source": [
    "len(student_tuple)"
   ]
  },
  {
   "cell_type": "code",
   "execution_count": 5,
   "id": "6f3f6920-5f98-41fa-be8a-4b110082ac19",
   "metadata": {},
   "outputs": [],
   "source": [
    "student_tuple = 'Cameron', 'Landon', 10.09"
   ]
  },
  {
   "cell_type": "code",
   "execution_count": 6,
   "id": "f83bc2b6-9ca7-4f21-88d0-4488ba86eac9",
   "metadata": {},
   "outputs": [
    {
     "data": {
      "text/plain": [
       "('Cameron', 'Landon', 10.09)"
      ]
     },
     "execution_count": 6,
     "metadata": {},
     "output_type": "execute_result"
    }
   ],
   "source": [
    "student_tuple"
   ]
  },
  {
   "cell_type": "code",
   "execution_count": 11,
   "id": "cae27595-8165-44ca-9d54-64f371e5e411",
   "metadata": {},
   "outputs": [
    {
     "data": {
      "text/plain": [
       "3"
      ]
     },
     "execution_count": 11,
     "metadata": {},
     "output_type": "execute_result"
    }
   ],
   "source": [
    "len(student_tuple) # Shows the number of items in the tuple"
   ]
  },
  {
   "cell_type": "code",
   "execution_count": 12,
   "id": "403f6de4-8068-4b04-96d0-86af060778d7",
   "metadata": {},
   "outputs": [],
   "source": [
    "a_single_tuple = ('red',) #note the comma"
   ]
  },
  {
   "cell_type": "code",
   "execution_count": 13,
   "id": "d3398966-9792-4ba6-b554-6b7151c3d303",
   "metadata": {},
   "outputs": [
    {
     "data": {
      "text/plain": [
       "('red',)"
      ]
     },
     "execution_count": 13,
     "metadata": {},
     "output_type": "execute_result"
    }
   ],
   "source": [
    "a_single_tuple"
   ]
  },
  {
   "cell_type": "code",
   "execution_count": 14,
   "id": "1c2106fb-f366-41dc-aa61-e240e80aabe7",
   "metadata": {},
   "outputs": [],
   "source": [
    "b_single_tuple = ('red')"
   ]
  },
  {
   "cell_type": "code",
   "execution_count": 17,
   "id": "234e0f33-f0a7-48d1-aa1f-c4d38663d0a3",
   "metadata": {},
   "outputs": [
    {
     "data": {
      "text/plain": [
       "'red'"
      ]
     },
     "execution_count": 17,
     "metadata": {},
     "output_type": "execute_result"
    }
   ],
   "source": [
    "b_single_tuple #note in the output the lack of parenthesis, this is a string and not a tuple"
   ]
  },
  {
   "cell_type": "code",
   "execution_count": 10,
   "id": "5ddec88f-8848-4931-aa66-1ea1a5793f1e",
   "metadata": {},
   "outputs": [],
   "source": [
    "# to create a tuple with a single item you must include a comma (,) after the string "
   ]
  },
  {
   "cell_type": "code",
   "execution_count": null,
   "id": "46523ad4-4e2d-4dbc-9da7-d39714955038",
   "metadata": {},
   "outputs": [],
   "source": []
  },
  {
   "cell_type": "code",
   "execution_count": 23,
   "id": "48c241a9-857e-4e3a-b170-5011fdd65399",
   "metadata": {},
   "outputs": [],
   "source": [
    "#Appending Tuples to Lists: \n",
    "#use '+=' to append a tuple to a list"
   ]
  },
  {
   "cell_type": "code",
   "execution_count": 24,
   "id": "52b2b9d1-154f-476f-9842-51aaa035d6dd",
   "metadata": {},
   "outputs": [],
   "source": [
    "numbers = [1, 2, 3, 4, 5]"
   ]
  },
  {
   "cell_type": "code",
   "execution_count": 25,
   "id": "99bd43a7-2028-441e-96a2-69471cecc269",
   "metadata": {},
   "outputs": [],
   "source": [
    "numbers += (6, 7, 8) #note that when adding the additions need to be in () and not []"
   ]
  },
  {
   "cell_type": "code",
   "execution_count": 26,
   "id": "40891942-4969-46fb-a9d8-69f3e09508c2",
   "metadata": {},
   "outputs": [
    {
     "data": {
      "text/plain": [
       "[1, 2, 3, 4, 5, 6, 7, 8]"
      ]
     },
     "execution_count": 26,
     "metadata": {},
     "output_type": "execute_result"
    }
   ],
   "source": [
    "numbers"
   ]
  },
  {
   "cell_type": "code",
   "execution_count": null,
   "id": "746c28e3-5153-448e-88cb-eff275e4dff7",
   "metadata": {},
   "outputs": [],
   "source": []
  },
  {
   "cell_type": "code",
   "execution_count": 27,
   "id": "4d990062-0c33-46e0-8182-c3d2fe9ef179",
   "metadata": {},
   "outputs": [],
   "source": [
    "#Tuples May Contain Mutable Objects"
   ]
  },
  {
   "cell_type": "code",
   "execution_count": 29,
   "id": "fcefd9ae-35be-4cad-ac71-f8fcc7dc07f6",
   "metadata": {},
   "outputs": [],
   "source": [
    "student_tuple = ('Cameron', 'Landon', [98, 75, 87])"
   ]
  },
  {
   "cell_type": "code",
   "execution_count": 30,
   "id": "e80df11c-a35e-46d6-b7ca-ecd3870574cd",
   "metadata": {},
   "outputs": [],
   "source": [
    "#the tuple is immutable, but the list is mutable"
   ]
  },
  {
   "cell_type": "code",
   "execution_count": 31,
   "id": "d234626d-9fa0-4991-9f52-bfe77949298f",
   "metadata": {},
   "outputs": [],
   "source": [
    "student_tuple[2][1] = 85"
   ]
  },
  {
   "cell_type": "code",
   "execution_count": 32,
   "id": "f5e8638e-3ffb-459f-93e4-cff585888013",
   "metadata": {},
   "outputs": [
    {
     "data": {
      "text/plain": [
       "('Cameron', 'Landon', [98, 85, 87])"
      ]
     },
     "execution_count": 32,
     "metadata": {},
     "output_type": "execute_result"
    }
   ],
   "source": [
    "student_tuple"
   ]
  },
  {
   "cell_type": "code",
   "execution_count": null,
   "id": "8549411a-4fa0-40ea-8ec2-ce55bb1dc160",
   "metadata": {},
   "outputs": [],
   "source": []
  },
  {
   "cell_type": "code",
   "execution_count": 33,
   "id": "3301653e-97c5-48d8-89e2-234130c5d136",
   "metadata": {},
   "outputs": [],
   "source": [
    "# 5.4 Unpacking Sequences"
   ]
  },
  {
   "cell_type": "code",
   "execution_count": 34,
   "id": "937eb036-7ea9-408d-8bc8-3cea0f81dc4c",
   "metadata": {},
   "outputs": [],
   "source": [
    "student_tuple = ('Cameron', [98, 85, 87])"
   ]
  },
  {
   "cell_type": "code",
   "execution_count": 35,
   "id": "82d665ad-e19a-48e6-ac8d-d67f662def32",
   "metadata": {},
   "outputs": [],
   "source": [
    "first_name, grades = student_tuple"
   ]
  },
  {
   "cell_type": "code",
   "execution_count": 36,
   "id": "a6c8fbc7-0577-4923-9625-495b63d33237",
   "metadata": {},
   "outputs": [
    {
     "data": {
      "text/plain": [
       "'Cameron'"
      ]
     },
     "execution_count": 36,
     "metadata": {},
     "output_type": "execute_result"
    }
   ],
   "source": [
    "first_name"
   ]
  },
  {
   "cell_type": "code",
   "execution_count": 37,
   "id": "3415d6e0-25ff-4181-aab1-33b30e9da43c",
   "metadata": {},
   "outputs": [
    {
     "data": {
      "text/plain": [
       "[98, 85, 87]"
      ]
     },
     "execution_count": 37,
     "metadata": {},
     "output_type": "execute_result"
    }
   ],
   "source": [
    "grades"
   ]
  },
  {
   "cell_type": "code",
   "execution_count": null,
   "id": "1c57b30c-03bb-4dc1-b9d3-028c931235a7",
   "metadata": {},
   "outputs": [],
   "source": []
  },
  {
   "cell_type": "code",
   "execution_count": 38,
   "id": "447dc234-1a98-4f2c-bc41-14de39831017",
   "metadata": {},
   "outputs": [],
   "source": [
    "number1, number2, number3 = [2, 3, 5]"
   ]
  },
  {
   "cell_type": "code",
   "execution_count": 39,
   "id": "d2ff0225-7c4b-4468-a122-02af36f4f7f0",
   "metadata": {},
   "outputs": [
    {
     "name": "stdout",
     "output_type": "stream",
     "text": [
      "2 3 5\n"
     ]
    }
   ],
   "source": [
    "print(f'{number1} {number2} {number3}')"
   ]
  },
  {
   "cell_type": "code",
   "execution_count": 40,
   "id": "e4ca3729-ee73-4bb7-b46c-dd27371ac6d1",
   "metadata": {},
   "outputs": [],
   "source": [
    "number1, number2, number3 = range(10, 40, 10)"
   ]
  },
  {
   "cell_type": "code",
   "execution_count": 41,
   "id": "5278d980-0aec-48b5-85e6-2dbd9243e1e2",
   "metadata": {},
   "outputs": [
    {
     "name": "stdout",
     "output_type": "stream",
     "text": [
      "10 20 30\n"
     ]
    }
   ],
   "source": [
    "print(f'{number1} {number2} {number3}')"
   ]
  },
  {
   "cell_type": "code",
   "execution_count": null,
   "id": "798412ef-d0f1-4a6d-91d7-f0a0f09d2bcb",
   "metadata": {},
   "outputs": [],
   "source": []
  },
  {
   "cell_type": "code",
   "execution_count": 42,
   "id": "ffc2ea1a-349e-49b2-8c3b-5daf0c622411",
   "metadata": {},
   "outputs": [],
   "source": [
    "number1 = 99"
   ]
  },
  {
   "cell_type": "code",
   "execution_count": 43,
   "id": "e0d1c708-02d0-44db-9364-fe83a307adb7",
   "metadata": {},
   "outputs": [],
   "source": [
    "number2 = 22"
   ]
  },
  {
   "cell_type": "code",
   "execution_count": 44,
   "id": "63d8366e-3aeb-420a-b6ee-363d706ed952",
   "metadata": {},
   "outputs": [],
   "source": [
    "number1, number2 = (number2, number1)"
   ]
  },
  {
   "cell_type": "code",
   "execution_count": 46,
   "id": "21a9d97b-a59c-40ba-a257-2335733ba7b8",
   "metadata": {},
   "outputs": [
    {
     "name": "stdout",
     "output_type": "stream",
     "text": [
      "number1 = 22; number2 = 99\n"
     ]
    }
   ],
   "source": [
    "print(f'number1 = {number1}; number2 = {number2}') # this swaps the two values of number1 and number2"
   ]
  },
  {
   "cell_type": "code",
   "execution_count": null,
   "id": "dca1d608-7ffc-476f-a124-cead2a955d0e",
   "metadata": {},
   "outputs": [],
   "source": []
  },
  {
   "cell_type": "code",
   "execution_count": 47,
   "id": "4a4db287-ed74-45eb-830e-1eaae7e9c4f8",
   "metadata": {},
   "outputs": [],
   "source": [
    "colors = ['red', 'orange', 'yellow']"
   ]
  },
  {
   "cell_type": "code",
   "execution_count": 50,
   "id": "28da0a44-fc69-4f4e-900b-80e740fb2129",
   "metadata": {},
   "outputs": [
    {
     "data": {
      "text/plain": [
       "[(0, 'red'), (1, 'orange'), (2, 'yellow')]"
      ]
     },
     "execution_count": 50,
     "metadata": {},
     "output_type": "execute_result"
    }
   ],
   "source": [
    "list(enumerate(colors))"
   ]
  },
  {
   "cell_type": "code",
   "execution_count": 51,
   "id": "83c860bb-c047-4c01-9c24-7b1460f156d3",
   "metadata": {},
   "outputs": [
    {
     "data": {
      "text/plain": [
       "((0, 'red'), (1, 'orange'), (2, 'yellow'))"
      ]
     },
     "execution_count": 51,
     "metadata": {},
     "output_type": "execute_result"
    }
   ],
   "source": [
    "tuple(enumerate(colors))"
   ]
  },
  {
   "cell_type": "code",
   "execution_count": 56,
   "id": "9d53fcc9-15c1-4909-91cf-2dfbce9b8f6f",
   "metadata": {},
   "outputs": [
    {
     "name": "stdout",
     "output_type": "stream",
     "text": [
      "0: red\n",
      "1: orange\n",
      "2: yellow\n"
     ]
    }
   ],
   "source": [
    "for index, value in enumerate(colors):\n",
    "    print(f'{index}: {value}')\n",
    "    "
   ]
  },
  {
   "cell_type": "code",
   "execution_count": 57,
   "id": "d284309d-b7a0-4506-b4a4-aaf2d3339172",
   "metadata": {},
   "outputs": [
    {
     "name": "stdout",
     "output_type": "stream",
     "text": [
      "1: red\n",
      "2: orange\n",
      "3: yellow\n"
     ]
    }
   ],
   "source": [
    "for index, value in enumerate(colors):\n",
    "    print(f'{index+1}: {value}') #wanted to see if this would change the first item to be 1"
   ]
  },
  {
   "cell_type": "code",
   "execution_count": 58,
   "id": "e5580682-b39e-49f0-9784-485359223ecf",
   "metadata": {},
   "outputs": [],
   "source": [
    "# it did. "
   ]
  },
  {
   "cell_type": "code",
   "execution_count": null,
   "id": "b3050075-be0d-4bf1-b519-32f6e3059b7e",
   "metadata": {},
   "outputs": [],
   "source": []
  },
  {
   "cell_type": "code",
   "execution_count": 1,
   "id": "a77eb659-6892-446c-8ad2-a330e7e0a16a",
   "metadata": {},
   "outputs": [],
   "source": [
    "#creating a primitive Bar Chart"
   ]
  },
  {
   "cell_type": "code",
   "execution_count": 4,
   "id": "5945cddf-bd1a-40b4-a970-d5462b06747c",
   "metadata": {},
   "outputs": [],
   "source": [
    "# see the fig05_01.py file and the fig05_01_test.py file\n",
    "# I copied the file and changed the \"*\" value to \"&\"\n",
    "# to see what the bar chart would look like. "
   ]
  },
  {
   "cell_type": "code",
   "execution_count": 5,
   "id": "08ff70d5-cb53-48a8-bacb-b41d95fd471b",
   "metadata": {},
   "outputs": [],
   "source": [
    "# Cameron Landon 8/14/2022 8:45 PM"
   ]
  },
  {
   "cell_type": "code",
   "execution_count": null,
   "id": "ba571718-e7a8-41f2-b0bd-2eb1265e53c7",
   "metadata": {},
   "outputs": [],
   "source": []
  },
  {
   "cell_type": "code",
   "execution_count": 6,
   "id": "8d5dd101-19aa-4f6f-931e-e1962fddf0b1",
   "metadata": {},
   "outputs": [],
   "source": [
    "# 5.5 Sequence Slicing"
   ]
  },
  {
   "cell_type": "code",
   "execution_count": 7,
   "id": "2bafd34b-2086-4f8e-8597-bfb801ff9ad3",
   "metadata": {},
   "outputs": [],
   "source": [
    "numbers = [2, 3, 5, 7, 11, 13, 17, 19]"
   ]
  },
  {
   "cell_type": "code",
   "execution_count": 8,
   "id": "6c2ffab7-38b4-400d-a41a-817440047f91",
   "metadata": {},
   "outputs": [
    {
     "data": {
      "text/plain": [
       "[5, 7, 11, 13]"
      ]
     },
     "execution_count": 8,
     "metadata": {},
     "output_type": "execute_result"
    }
   ],
   "source": [
    "numbers[2:6]"
   ]
  },
  {
   "cell_type": "code",
   "execution_count": 9,
   "id": "ee630ba9-bd28-4f68-9415-0579050c4bf0",
   "metadata": {},
   "outputs": [],
   "source": [
    "# This pulls a \"slice\" of the numbers list, the \"slice\"\n",
    "# copies the elements from the starting index (2) up to, but not including\n",
    "# the ending index (6)"
   ]
  },
  {
   "cell_type": "code",
   "execution_count": 11,
   "id": "2329735e-e075-4b52-94f9-a69f9a4c2a20",
   "metadata": {},
   "outputs": [
    {
     "data": {
      "text/plain": [
       "[17, 19]"
      ]
     },
     "execution_count": 11,
     "metadata": {},
     "output_type": "execute_result"
    }
   ],
   "source": [
    "numbers[6:]"
   ]
  },
  {
   "cell_type": "code",
   "execution_count": 15,
   "id": "b87e76d6-4f72-4e4c-9924-635a1e32243c",
   "metadata": {},
   "outputs": [
    {
     "data": {
      "text/plain": [
       "[17, 19]"
      ]
     },
     "execution_count": 15,
     "metadata": {},
     "output_type": "execute_result"
    }
   ],
   "source": [
    "numbers[6:len(numbers)]"
   ]
  },
  {
   "cell_type": "code",
   "execution_count": null,
   "id": "41cbb88e-c59c-4f1a-985e-9d30baff8840",
   "metadata": {},
   "outputs": [],
   "source": []
  },
  {
   "cell_type": "code",
   "execution_count": 16,
   "id": "074d2fce-22cd-415c-a32a-7a0e9bcc0db4",
   "metadata": {},
   "outputs": [],
   "source": [
    "#This will create a step of 2 to create a slice, meaning every other element"
   ]
  },
  {
   "cell_type": "code",
   "execution_count": 17,
   "id": "efb6847c-4b23-4baa-903b-4116a81ef2f4",
   "metadata": {},
   "outputs": [
    {
     "data": {
      "text/plain": [
       "[2, 5, 11, 17]"
      ]
     },
     "execution_count": 17,
     "metadata": {},
     "output_type": "execute_result"
    }
   ],
   "source": [
    "numbers[::2]"
   ]
  },
  {
   "cell_type": "code",
   "execution_count": 18,
   "id": "e56f86cd-bff6-4be5-95cf-77d12d655e15",
   "metadata": {},
   "outputs": [
    {
     "data": {
      "text/plain": [
       "[2, 5, 11, 17]"
      ]
     },
     "execution_count": 18,
     "metadata": {},
     "output_type": "execute_result"
    }
   ],
   "source": [
    "numbers[0::2]"
   ]
  },
  {
   "cell_type": "code",
   "execution_count": 21,
   "id": "45570548-3be8-4ff4-a667-8e80108adf73",
   "metadata": {},
   "outputs": [],
   "source": [
    "#starts with starting index (0) which is \"2\", and goes by 2's or every other up (or down) the list)"
   ]
  },
  {
   "cell_type": "code",
   "execution_count": 20,
   "id": "514dcbc2-da39-4f5e-94e7-58a27a81c3c5",
   "metadata": {},
   "outputs": [
    {
     "data": {
      "text/plain": [
       "[2, 7, 17]"
      ]
     },
     "execution_count": 20,
     "metadata": {},
     "output_type": "execute_result"
    }
   ],
   "source": [
    "numbers[0::3]"
   ]
  },
  {
   "cell_type": "code",
   "execution_count": 22,
   "id": "ccce9eeb-e8ad-4b3d-a893-bcb92ebb9934",
   "metadata": {},
   "outputs": [],
   "source": [
    "#starts with starting index (0) which is \"2\", and goes by 3's or every third number up (or down) the list)"
   ]
  },
  {
   "cell_type": "code",
   "execution_count": null,
   "id": "91e610c5-2d36-45e3-a319-30e41958a022",
   "metadata": {},
   "outputs": [],
   "source": []
  },
  {
   "cell_type": "code",
   "execution_count": 23,
   "id": "a0890ebf-c8e7-497e-96e4-4e2aca7289c4",
   "metadata": {},
   "outputs": [],
   "source": [
    "#slicing in reverse order"
   ]
  },
  {
   "cell_type": "code",
   "execution_count": 25,
   "id": "53f65461-156d-4a30-b8dc-ec75e4cf5f9f",
   "metadata": {},
   "outputs": [
    {
     "data": {
      "text/plain": [
       "[19, 17, 13, 11, 7, 5, 3, 2]"
      ]
     },
     "execution_count": 25,
     "metadata": {},
     "output_type": "execute_result"
    }
   ],
   "source": [
    "numbers[::-1]"
   ]
  },
  {
   "cell_type": "code",
   "execution_count": null,
   "id": "f69ec6d1-d0fc-42a8-bba0-fe75a728c6c2",
   "metadata": {},
   "outputs": [],
   "source": []
  },
  {
   "cell_type": "code",
   "execution_count": 26,
   "id": "2e3a585a-6c92-49b0-b864-907555d2d160",
   "metadata": {},
   "outputs": [],
   "source": [
    "#modifying lists via slices"
   ]
  },
  {
   "cell_type": "code",
   "execution_count": 27,
   "id": "10723482-c040-4ced-aae1-a21a98ef8bf9",
   "metadata": {},
   "outputs": [],
   "source": [
    "numbers[0:3] = ['two', 'three', 'five']"
   ]
  },
  {
   "cell_type": "code",
   "execution_count": 28,
   "id": "296bcd6c-1b54-4f64-92f6-783271b7a970",
   "metadata": {},
   "outputs": [
    {
     "data": {
      "text/plain": [
       "['two', 'three', 'five', 7, 11, 13, 17, 19]"
      ]
     },
     "execution_count": 28,
     "metadata": {},
     "output_type": "execute_result"
    }
   ],
   "source": [
    "numbers"
   ]
  },
  {
   "cell_type": "code",
   "execution_count": 30,
   "id": "7298e483-1a74-4e33-bc9a-30e38dd84066",
   "metadata": {},
   "outputs": [],
   "source": [
    "#the following will delete only the first three elements of numbers\n",
    "# by assigning an empty list to the three-element slice"
   ]
  },
  {
   "cell_type": "code",
   "execution_count": 31,
   "id": "7665dc24-2b55-400f-bb9d-cb51f6ae0c1c",
   "metadata": {},
   "outputs": [],
   "source": [
    "numbers[0:3] = []"
   ]
  },
  {
   "cell_type": "code",
   "execution_count": 32,
   "id": "f7863fba-5a78-41aa-84c4-75aa613fb9e5",
   "metadata": {},
   "outputs": [
    {
     "data": {
      "text/plain": [
       "[7, 11, 13, 17, 19]"
      ]
     },
     "execution_count": 32,
     "metadata": {},
     "output_type": "execute_result"
    }
   ],
   "source": [
    "numbers"
   ]
  },
  {
   "cell_type": "code",
   "execution_count": null,
   "id": "ed9b39d2-0270-46bc-8c09-2e48a147ae6c",
   "metadata": {},
   "outputs": [],
   "source": []
  },
  {
   "cell_type": "code",
   "execution_count": 37,
   "id": "44233fb5-3b61-4e01-ad5a-72aa791ebc2c",
   "metadata": {},
   "outputs": [],
   "source": [
    "# 5.16 Two-Dimensional Lists"
   ]
  },
  {
   "cell_type": "code",
   "execution_count": 34,
   "id": "001e0af7-3a4c-4782-8e7a-75e3c0d08024",
   "metadata": {},
   "outputs": [],
   "source": [
    "a = [[77, 68, 86, 73], [96, 87, 89, 81], [70, 90, 86, 81]]"
   ]
  },
  {
   "cell_type": "code",
   "execution_count": 35,
   "id": "fa01a13b-55c4-4bc8-b3f5-73411595add6",
   "metadata": {},
   "outputs": [
    {
     "data": {
      "text/plain": [
       "[[77, 68, 86, 73], [96, 87, 89, 81], [70, 90, 86, 81]]"
      ]
     },
     "execution_count": 35,
     "metadata": {},
     "output_type": "execute_result"
    }
   ],
   "source": [
    "a"
   ]
  },
  {
   "cell_type": "code",
   "execution_count": 36,
   "id": "fae5c623-f109-4c67-8df2-2119434d910c",
   "metadata": {},
   "outputs": [
    {
     "name": "stdout",
     "output_type": "stream",
     "text": [
      "77 68 86 73 \n",
      "96 87 89 81 \n",
      "70 90 86 81 \n"
     ]
    }
   ],
   "source": [
    "for row in a:\n",
    "    for item in row:\n",
    "        print(item, end=\" \")\n",
    "    print()"
   ]
  },
  {
   "cell_type": "code",
   "execution_count": 40,
   "id": "a25436ff-7b29-4006-b7c8-419fd8b2e7f1",
   "metadata": {},
   "outputs": [
    {
     "name": "stdout",
     "output_type": "stream",
     "text": [
      "a[0][0]=77  a[0][1]=68  a[0][2]=86  a[0][3]=73  \n",
      "a[1][0]=96  a[1][1]=87  a[1][2]=89  a[1][3]=81  \n",
      "a[2][0]=70  a[2][1]=90  a[2][2]=86  a[2][3]=81  \n"
     ]
    }
   ],
   "source": [
    "for i, row in enumerate(a):\n",
    "    for j, item in enumerate(row):\n",
    "        print(f'a[{i}][{j}]={item} ', end=' ')\n",
    "    print()"
   ]
  },
  {
   "cell_type": "code",
   "execution_count": 41,
   "id": "73ab543f-b30d-4744-a45e-d425992d75c4",
   "metadata": {},
   "outputs": [],
   "source": [
    "# a[i][j] \n",
    "# \"a\" is the list's name\n",
    "# \"i\" is the element's row\n",
    "# \"j\" is the element's column"
   ]
  },
  {
   "cell_type": "code",
   "execution_count": null,
   "id": "b6d88505-974e-46c1-80d3-4ab1401e2232",
   "metadata": {},
   "outputs": [],
   "source": []
  },
  {
   "cell_type": "code",
   "execution_count": 42,
   "id": "ca5242c8-f9ed-463d-853d-97815e72ed52",
   "metadata": {},
   "outputs": [],
   "source": [
    "# Cameron Landon 9/14/2022 9:06 PM"
   ]
  },
  {
   "cell_type": "code",
   "execution_count": null,
   "id": "c2be31ae-14d9-481b-8e1b-42c1b473fac4",
   "metadata": {},
   "outputs": [],
   "source": []
  }
 ],
 "metadata": {
  "kernelspec": {
   "display_name": "Python 3 (ipykernel)",
   "language": "python",
   "name": "python3"
  },
  "language_info": {
   "codemirror_mode": {
    "name": "ipython",
    "version": 3
   },
   "file_extension": ".py",
   "mimetype": "text/x-python",
   "name": "python",
   "nbconvert_exporter": "python",
   "pygments_lexer": "ipython3",
   "version": "3.9.12"
  }
 },
 "nbformat": 4,
 "nbformat_minor": 5
}

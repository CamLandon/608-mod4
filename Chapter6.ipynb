{
 "cells": [
  {
   "cell_type": "code",
   "execution_count": 1,
   "id": "6778ddad-2c92-4452-b735-a8079fc7b880",
   "metadata": {},
   "outputs": [],
   "source": [
    "# 6.2.1 Creating a Dictionary"
   ]
  },
  {
   "cell_type": "code",
   "execution_count": 2,
   "id": "95683eec-8872-45a4-ad91-f275bddb27c0",
   "metadata": {},
   "outputs": [],
   "source": [
    "#create a dictionary by enclosing in curly braces, {}, a comma-separated list of key-value pairs\n",
    "# each of the form \"key: value\"\n",
    "# you can create an empty dictionary with {}"
   ]
  },
  {
   "cell_type": "code",
   "execution_count": 4,
   "id": "ab7a8067-414a-4f2b-93d5-d3bae5453af6",
   "metadata": {},
   "outputs": [],
   "source": [
    "country_codes = {'Finland': 'fi', 'South Africa': 'za', 'Nepal': 'np'}"
   ]
  },
  {
   "cell_type": "code",
   "execution_count": 5,
   "id": "fe5b2650-6d73-464e-b3ed-c8359cf82fee",
   "metadata": {},
   "outputs": [
    {
     "data": {
      "text/plain": [
       "{'Finland': 'fi', 'South Africa': 'za', 'Nepal': 'np'}"
      ]
     },
     "execution_count": 5,
     "metadata": {},
     "output_type": "execute_result"
    }
   ],
   "source": [
    "country_codes"
   ]
  },
  {
   "cell_type": "code",
   "execution_count": 6,
   "id": "c29c32c0-f210-4aee-b1b8-80854ada729e",
   "metadata": {},
   "outputs": [],
   "source": [
    "# len built-in-function will output the number of key-value pairs in the dictionary"
   ]
  },
  {
   "cell_type": "code",
   "execution_count": 7,
   "id": "cc55bbe1-9c30-4ea7-8e62-87249f8e7d72",
   "metadata": {},
   "outputs": [
    {
     "data": {
      "text/plain": [
       "3"
      ]
     },
     "execution_count": 7,
     "metadata": {},
     "output_type": "execute_result"
    }
   ],
   "source": [
    "len(country_codes)"
   ]
  },
  {
   "cell_type": "code",
   "execution_count": 8,
   "id": "fadffba4-6a08-4736-9f38-996934c7eb39",
   "metadata": {},
   "outputs": [],
   "source": [
    "# use an condition (if/than statement) to determine if a dictionary is empty"
   ]
  },
  {
   "cell_type": "code",
   "execution_count": 11,
   "id": "06fe4dfa-3a25-4f12-81eb-3c41b768c7f6",
   "metadata": {},
   "outputs": [
    {
     "name": "stdout",
     "output_type": "stream",
     "text": [
      "country_codes is not empty\n"
     ]
    }
   ],
   "source": [
    "if country_codes:\n",
    "    print('country_codes is not empty')\n",
    "else:\n",
    "    print('country_codes is empty')"
   ]
  },
  {
   "cell_type": "code",
   "execution_count": 12,
   "id": "a845500d-3f36-41da-9da0-4aed2a8e72fb",
   "metadata": {},
   "outputs": [],
   "source": [
    "#clearing a dictionary"
   ]
  },
  {
   "cell_type": "code",
   "execution_count": 13,
   "id": "3f8a4c83-1d68-4e7c-b66f-f3475b6009ce",
   "metadata": {},
   "outputs": [],
   "source": [
    "country_codes.clear()"
   ]
  },
  {
   "cell_type": "code",
   "execution_count": 14,
   "id": "673fc10e-3ba3-4233-bac1-13d3eea57e79",
   "metadata": {},
   "outputs": [
    {
     "name": "stdout",
     "output_type": "stream",
     "text": [
      "country_codes is empty\n"
     ]
    }
   ],
   "source": [
    "if country_codes:\n",
    "    print('country_codes is not empty')\n",
    "else:\n",
    "    print('country_codes is empty')"
   ]
  },
  {
   "cell_type": "code",
   "execution_count": 15,
   "id": "4ff58043-72a3-488b-aecb-1fe8e494e056",
   "metadata": {},
   "outputs": [],
   "source": [
    "# 6.2.2 Iterating through a Dictionary"
   ]
  },
  {
   "cell_type": "code",
   "execution_count": 16,
   "id": "772330de-7c50-422f-9648-48363fdb8f89",
   "metadata": {},
   "outputs": [],
   "source": [
    "days_per_month = {'January': 31, 'February': 28, 'March': 31}"
   ]
  },
  {
   "cell_type": "code",
   "execution_count": 17,
   "id": "45a574f0-4a47-4bb6-a7c0-1521492c901e",
   "metadata": {},
   "outputs": [
    {
     "data": {
      "text/plain": [
       "{'January': 31, 'February': 28, 'March': 31}"
      ]
     },
     "execution_count": 17,
     "metadata": {},
     "output_type": "execute_result"
    }
   ],
   "source": [
    "days_per_month"
   ]
  },
  {
   "cell_type": "code",
   "execution_count": 18,
   "id": "5ac31f1d-466b-4af8-8887-a065738baa9f",
   "metadata": {},
   "outputs": [
    {
     "name": "stdout",
     "output_type": "stream",
     "text": [
      "January has 31 days\n",
      "February has 28 days\n",
      "March has 31 days\n"
     ]
    }
   ],
   "source": [
    "for month, days in days_per_month.items():\n",
    "    print(f'{month} has {days} days')"
   ]
  },
  {
   "cell_type": "code",
   "execution_count": 19,
   "id": "132a8253-103d-4cf1-8abb-717b9f34dc71",
   "metadata": {},
   "outputs": [],
   "source": [
    "# 6.2.3 Basic Dictionary Operations"
   ]
  },
  {
   "cell_type": "code",
   "execution_count": 20,
   "id": "179ceb10-94db-4402-a753-ea9de76542aa",
   "metadata": {},
   "outputs": [],
   "source": [
    "roman_numerals = {'I': 1, 'II': 2, 'III': 3, 'V': 5, 'X': 100}"
   ]
  },
  {
   "cell_type": "code",
   "execution_count": 21,
   "id": "e84993a7-ae8c-4821-9f45-5ead23f8d2e1",
   "metadata": {},
   "outputs": [
    {
     "data": {
      "text/plain": [
       "{'I': 1, 'II': 2, 'III': 3, 'V': 5, 'X': 100}"
      ]
     },
     "execution_count": 21,
     "metadata": {},
     "output_type": "execute_result"
    }
   ],
   "source": [
    "roman_numerals"
   ]
  },
  {
   "cell_type": "code",
   "execution_count": 22,
   "id": "fc2dc933-bcc1-48d1-99e7-d206f50ab886",
   "metadata": {},
   "outputs": [
    {
     "data": {
      "text/plain": [
       "5"
      ]
     },
     "execution_count": 22,
     "metadata": {},
     "output_type": "execute_result"
    }
   ],
   "source": [
    "roman_numerals['V']"
   ]
  },
  {
   "cell_type": "code",
   "execution_count": null,
   "id": "8086f3f0-0396-4157-82a9-535e9205d355",
   "metadata": {},
   "outputs": [],
   "source": []
  },
  {
   "cell_type": "code",
   "execution_count": 23,
   "id": "f154b1d2-1bb7-4b41-b339-43979572e756",
   "metadata": {},
   "outputs": [],
   "source": [
    "# updating the value of an existing key-value pair"
   ]
  },
  {
   "cell_type": "code",
   "execution_count": 27,
   "id": "626fd6bc-1233-48cc-9486-245fb2e6243c",
   "metadata": {},
   "outputs": [],
   "source": [
    "roman_numerals['X'] = 10 \n",
    "#watch the 100 from [21] change to 10"
   ]
  },
  {
   "cell_type": "code",
   "execution_count": 25,
   "id": "5b9bacc8-a6a2-493c-b72e-b6a3f084168f",
   "metadata": {},
   "outputs": [
    {
     "data": {
      "text/plain": [
       "{'I': 1, 'II': 2, 'III': 3, 'V': 5, 'X': 10}"
      ]
     },
     "execution_count": 25,
     "metadata": {},
     "output_type": "execute_result"
    }
   ],
   "source": [
    "roman_numerals"
   ]
  },
  {
   "cell_type": "code",
   "execution_count": null,
   "id": "16c917bf-93de-4725-a935-6f643432d20e",
   "metadata": {},
   "outputs": [],
   "source": []
  },
  {
   "cell_type": "code",
   "execution_count": 28,
   "id": "7cf7be5f-cc41-43a9-922f-93744929a4af",
   "metadata": {},
   "outputs": [],
   "source": [
    "#Adding a new key-value pair"
   ]
  },
  {
   "cell_type": "code",
   "execution_count": 31,
   "id": "26390821-50f1-4e13-8955-b34ae5d92dce",
   "metadata": {},
   "outputs": [],
   "source": [
    "roman_numerals['L'] = 50\n",
    "#the dictionary's name['new key'] = key's value"
   ]
  },
  {
   "cell_type": "code",
   "execution_count": 30,
   "id": "f82fb535-53bf-449e-90c7-dfe1ecdf9f6d",
   "metadata": {},
   "outputs": [
    {
     "data": {
      "text/plain": [
       "{'I': 1, 'II': 2, 'III': 3, 'V': 5, 'X': 10, 'L': 50}"
      ]
     },
     "execution_count": 30,
     "metadata": {},
     "output_type": "execute_result"
    }
   ],
   "source": [
    "roman_numerals"
   ]
  },
  {
   "cell_type": "code",
   "execution_count": null,
   "id": "680619b5-2b82-482a-9fb1-e655ae165dc1",
   "metadata": {},
   "outputs": [],
   "source": []
  },
  {
   "cell_type": "code",
   "execution_count": 32,
   "id": "37346706-d40d-49e0-a21a-29115425083a",
   "metadata": {},
   "outputs": [],
   "source": [
    "# Removing a key-value pair"
   ]
  },
  {
   "cell_type": "code",
   "execution_count": 37,
   "id": "fb25a448-4d65-4a6d-aef0-24795439d725",
   "metadata": {},
   "outputs": [
    {
     "ename": "KeyError",
     "evalue": "'III'",
     "output_type": "error",
     "traceback": [
      "\u001b[1;31m---------------------------------------------------------------------------\u001b[0m",
      "\u001b[1;31mKeyError\u001b[0m                                  Traceback (most recent call last)",
      "Input \u001b[1;32mIn [37]\u001b[0m, in \u001b[0;36m<cell line: 1>\u001b[1;34m()\u001b[0m\n\u001b[1;32m----> 1\u001b[0m \u001b[38;5;28;01mdel\u001b[39;00m roman_numerals[\u001b[38;5;124m'\u001b[39m\u001b[38;5;124mIII\u001b[39m\u001b[38;5;124m'\u001b[39m]\n",
      "\u001b[1;31mKeyError\u001b[0m: 'III'"
     ]
    }
   ],
   "source": [
    "del roman_numerals['III']"
   ]
  },
  {
   "cell_type": "code",
   "execution_count": null,
   "id": "bbe1e912-205f-4b4f-944e-e624fb71ec5f",
   "metadata": {},
   "outputs": [],
   "source": []
  },
  {
   "cell_type": "code",
   "execution_count": 38,
   "id": "89474006-59e0-4f9b-add6-dbd58fc72c9a",
   "metadata": {},
   "outputs": [],
   "source": [
    "#6.2.4 Dictionary Methods keys and values"
   ]
  },
  {
   "cell_type": "code",
   "execution_count": 39,
   "id": "82b9be6c-8659-4106-bf2f-ca711de41747",
   "metadata": {},
   "outputs": [],
   "source": [
    "months = {'January': 1, 'February': 2, 'March': 3}"
   ]
  },
  {
   "cell_type": "code",
   "execution_count": 40,
   "id": "22f9bc86-5548-4f3f-ba0f-bd037c63641f",
   "metadata": {},
   "outputs": [
    {
     "name": "stdout",
     "output_type": "stream",
     "text": [
      "January February March "
     ]
    }
   ],
   "source": [
    "for month_name in months.keys():\n",
    "    print(month_name, end=' ')\n",
    "    "
   ]
  },
  {
   "cell_type": "code",
   "execution_count": 42,
   "id": "7366e0d2-718d-40bb-85f6-20128463641d",
   "metadata": {},
   "outputs": [
    {
     "name": "stdout",
     "output_type": "stream",
     "text": [
      "1 2 3 "
     ]
    }
   ],
   "source": [
    "for month_number in months.values():\n",
    "    print(month_number, end=' ')"
   ]
  },
  {
   "cell_type": "code",
   "execution_count": 43,
   "id": "28128714-be1c-4a50-9633-2b8c814ca1fe",
   "metadata": {},
   "outputs": [],
   "source": [
    "#dictionary views"
   ]
  },
  {
   "cell_type": "code",
   "execution_count": 44,
   "id": "a458f755-532d-413a-8eaf-dcb8037cf0af",
   "metadata": {},
   "outputs": [],
   "source": [
    "months_view = months.keys()"
   ]
  },
  {
   "cell_type": "code",
   "execution_count": 45,
   "id": "b0c3c626-2d50-46dc-8030-73fa1ddac3f5",
   "metadata": {},
   "outputs": [
    {
     "name": "stdout",
     "output_type": "stream",
     "text": [
      "January February March "
     ]
    }
   ],
   "source": [
    "for key in months_view:\n",
    "    print(key, end=' ')"
   ]
  },
  {
   "cell_type": "code",
   "execution_count": 46,
   "id": "09474159-6c02-400c-90e4-711dbaa090a0",
   "metadata": {},
   "outputs": [],
   "source": [
    "months['December'] = 12"
   ]
  },
  {
   "cell_type": "code",
   "execution_count": 47,
   "id": "0c4493dc-a02b-4922-bc44-120bbdabbaa0",
   "metadata": {},
   "outputs": [
    {
     "data": {
      "text/plain": [
       "{'January': 1, 'February': 2, 'March': 3, 'December': 12}"
      ]
     },
     "execution_count": 47,
     "metadata": {},
     "output_type": "execute_result"
    }
   ],
   "source": [
    "months"
   ]
  },
  {
   "cell_type": "code",
   "execution_count": 48,
   "id": "be7a4282-4657-4304-a891-e1d7271b4b62",
   "metadata": {},
   "outputs": [
    {
     "name": "stdout",
     "output_type": "stream",
     "text": [
      "January February March December "
     ]
    }
   ],
   "source": [
    "for key in months_view:\n",
    "    print(key, end=' ')"
   ]
  },
  {
   "cell_type": "code",
   "execution_count": 49,
   "id": "cec70736-bb6f-41da-a1f9-1abdefe14309",
   "metadata": {},
   "outputs": [],
   "source": [
    "#converting Dictionary keys, Values and key-value pairs to lists"
   ]
  },
  {
   "cell_type": "code",
   "execution_count": 50,
   "id": "e56d117a-6434-4ca5-9662-f969cc1b9b6e",
   "metadata": {},
   "outputs": [
    {
     "data": {
      "text/plain": [
       "['January', 'February', 'March', 'December']"
      ]
     },
     "execution_count": 50,
     "metadata": {},
     "output_type": "execute_result"
    }
   ],
   "source": [
    "list(months.keys())"
   ]
  },
  {
   "cell_type": "code",
   "execution_count": 51,
   "id": "7dd2b9fa-5603-4045-828b-4f2480afdf0b",
   "metadata": {},
   "outputs": [
    {
     "data": {
      "text/plain": [
       "[1, 2, 3, 12]"
      ]
     },
     "execution_count": 51,
     "metadata": {},
     "output_type": "execute_result"
    }
   ],
   "source": [
    "list(months.values())"
   ]
  },
  {
   "cell_type": "code",
   "execution_count": 53,
   "id": "b7b324d9-82b1-4513-9c2b-67e3c8708d02",
   "metadata": {},
   "outputs": [
    {
     "data": {
      "text/plain": [
       "[('January', 1), ('February', 2), ('March', 3), ('December', 12)]"
      ]
     },
     "execution_count": 53,
     "metadata": {},
     "output_type": "execute_result"
    }
   ],
   "source": [
    "list(months.items())"
   ]
  },
  {
   "cell_type": "code",
   "execution_count": 54,
   "id": "26e64749-f174-4eaa-870c-686a0ba56f66",
   "metadata": {},
   "outputs": [],
   "source": [
    "#Processing keys in Sorted Order"
   ]
  },
  {
   "cell_type": "code",
   "execution_count": 57,
   "id": "f9743905-44eb-4a8b-8620-2efd47ecf3b2",
   "metadata": {},
   "outputs": [
    {
     "name": "stdout",
     "output_type": "stream",
     "text": [
      "December February January March "
     ]
    }
   ],
   "source": [
    "for month_name in sorted(months.keys()):\n",
    "    print(month_name, end=' ')"
   ]
  },
  {
   "cell_type": "code",
   "execution_count": null,
   "id": "11677f65-6e52-4bec-8955-832a246fe01b",
   "metadata": {},
   "outputs": [],
   "source": []
  },
  {
   "cell_type": "code",
   "execution_count": 1,
   "id": "ff578edf-32c6-407b-9fe9-5282115c9654",
   "metadata": {},
   "outputs": [],
   "source": [
    "# 6.2.8 Dictionary Method update"
   ]
  },
  {
   "cell_type": "code",
   "execution_count": 2,
   "id": "bafa6972-ee5a-4362-8cbd-f8ec1112129c",
   "metadata": {},
   "outputs": [],
   "source": [
    "country_codes = {}"
   ]
  },
  {
   "cell_type": "code",
   "execution_count": 3,
   "id": "1acc0f9d-af2f-4705-ae02-8482c824b9e5",
   "metadata": {},
   "outputs": [
    {
     "data": {
      "text/plain": [
       "{}"
      ]
     },
     "execution_count": 3,
     "metadata": {},
     "output_type": "execute_result"
    }
   ],
   "source": [
    "country_codes"
   ]
  },
  {
   "cell_type": "code",
   "execution_count": 4,
   "id": "cb22d36a-7e3d-4c26-a34a-cbbb95df0110",
   "metadata": {},
   "outputs": [],
   "source": [
    "country_codes.update({'South Africa': 'za'})"
   ]
  },
  {
   "cell_type": "code",
   "execution_count": 5,
   "id": "c0886b51-1feb-45c6-a412-d5bbb854beb2",
   "metadata": {},
   "outputs": [
    {
     "data": {
      "text/plain": [
       "{'South Africa': 'za'}"
      ]
     },
     "execution_count": 5,
     "metadata": {},
     "output_type": "execute_result"
    }
   ],
   "source": [
    "country_codes"
   ]
  },
  {
   "cell_type": "code",
   "execution_count": 6,
   "id": "039adbef-108f-41b4-ae00-7cf5fca4fc70",
   "metadata": {},
   "outputs": [],
   "source": [
    "country_codes.update(Australia='ar')"
   ]
  },
  {
   "cell_type": "code",
   "execution_count": 7,
   "id": "1454665f-c2b6-4e70-b7a3-5b709809922e",
   "metadata": {},
   "outputs": [
    {
     "data": {
      "text/plain": [
       "{'South Africa': 'za', 'Australia': 'ar'}"
      ]
     },
     "execution_count": 7,
     "metadata": {},
     "output_type": "execute_result"
    }
   ],
   "source": [
    "country_codes"
   ]
  },
  {
   "cell_type": "code",
   "execution_count": 8,
   "id": "d7403870-dd32-4a3a-8e9b-3405304125ef",
   "metadata": {},
   "outputs": [],
   "source": [
    "country_codes.update(Australia='au')"
   ]
  },
  {
   "cell_type": "code",
   "execution_count": 9,
   "id": "c63510ef-f9a9-453a-80ca-d3e03ee3694f",
   "metadata": {},
   "outputs": [
    {
     "data": {
      "text/plain": [
       "{'South Africa': 'za', 'Australia': 'au'}"
      ]
     },
     "execution_count": 9,
     "metadata": {},
     "output_type": "execute_result"
    }
   ],
   "source": [
    "country_codes"
   ]
  },
  {
   "cell_type": "code",
   "execution_count": 10,
   "id": "95d42d84-dd35-4e45-afe8-cc6e5ce06e01",
   "metadata": {},
   "outputs": [],
   "source": [
    "# 6.2.9 Dictionary Comprehensions"
   ]
  },
  {
   "cell_type": "code",
   "execution_count": 13,
   "id": "a495e8fe-6b0b-4bae-ab73-0392096142a4",
   "metadata": {},
   "outputs": [],
   "source": [
    "months = {'January': 1, 'Feburary': 2, 'March': 3}"
   ]
  },
  {
   "cell_type": "code",
   "execution_count": 15,
   "id": "25ad1354-0144-449e-8ed1-7317f53ead33",
   "metadata": {},
   "outputs": [],
   "source": [
    "months2 = {number: name for name, number in months.items()}"
   ]
  },
  {
   "cell_type": "code",
   "execution_count": 16,
   "id": "40d9d659-36c3-4afb-ab8a-dab114caf436",
   "metadata": {},
   "outputs": [
    {
     "data": {
      "text/plain": [
       "{1: 'January', 2: 'Feburary', 3: 'March'}"
      ]
     },
     "execution_count": 16,
     "metadata": {},
     "output_type": "execute_result"
    }
   ],
   "source": [
    "months2"
   ]
  },
  {
   "cell_type": "code",
   "execution_count": null,
   "id": "fca289ba-cb6b-4cf9-8dc3-c1db25ec17ef",
   "metadata": {},
   "outputs": [],
   "source": []
  },
  {
   "cell_type": "code",
   "execution_count": 17,
   "id": "b526eaf1-7cd8-413a-a16d-fe22abd8b918",
   "metadata": {},
   "outputs": [],
   "source": [
    "grades = {'Sue': [98, 87, 94], 'Bob': [84, 95, 91]}"
   ]
  },
  {
   "cell_type": "code",
   "execution_count": 21,
   "id": "5777998b-ab11-4bbd-89b6-4ea6879560cd",
   "metadata": {},
   "outputs": [],
   "source": [
    "grades2 = {k: sum(v) / len(v) for k, v in grades.items()}\n",
    "# k for key\n",
    "# v for value"
   ]
  },
  {
   "cell_type": "code",
   "execution_count": 19,
   "id": "43e5e710-219a-47d6-bd39-70fd85e13aec",
   "metadata": {},
   "outputs": [
    {
     "data": {
      "text/plain": [
       "{'Sue': 93.0, 'Bob': 90.0}"
      ]
     },
     "execution_count": 19,
     "metadata": {},
     "output_type": "execute_result"
    }
   ],
   "source": [
    "grades2"
   ]
  },
  {
   "cell_type": "code",
   "execution_count": null,
   "id": "4a0450d6-c8af-46cd-a330-0ddd15d30916",
   "metadata": {},
   "outputs": [],
   "source": []
  },
  {
   "cell_type": "code",
   "execution_count": 22,
   "id": "fe9897e0-3d92-4d1e-a345-75290931df89",
   "metadata": {},
   "outputs": [],
   "source": [
    "# 6.3 Sets"
   ]
  },
  {
   "cell_type": "code",
   "execution_count": 23,
   "id": "58fb9e9c-8946-4fcf-89cf-c4a7317c85dc",
   "metadata": {},
   "outputs": [],
   "source": [
    "colors = {'red', 'orange', 'yellow', 'green', 'red', 'blue'}"
   ]
  },
  {
   "cell_type": "code",
   "execution_count": 24,
   "id": "017be267-9980-4fc5-8408-91f913a65a2e",
   "metadata": {},
   "outputs": [
    {
     "data": {
      "text/plain": [
       "{'blue', 'green', 'orange', 'red', 'yellow'}"
      ]
     },
     "execution_count": 24,
     "metadata": {},
     "output_type": "execute_result"
    }
   ],
   "source": [
    "colors"
   ]
  },
  {
   "cell_type": "code",
   "execution_count": 25,
   "id": "34014135-be3a-446c-b1b2-1e47217f0db7",
   "metadata": {},
   "outputs": [],
   "source": [
    "#notice that 'red', even lost listed twice has the duplicate eliminated. \n",
    "#also the output is in alphabetical order"
   ]
  },
  {
   "cell_type": "code",
   "execution_count": 26,
   "id": "6116a9af-7ab6-4def-a957-1824af5e62d1",
   "metadata": {},
   "outputs": [
    {
     "data": {
      "text/plain": [
       "5"
      ]
     },
     "execution_count": 26,
     "metadata": {},
     "output_type": "execute_result"
    }
   ],
   "source": [
    "len(colors)"
   ]
  },
  {
   "cell_type": "code",
   "execution_count": 27,
   "id": "8568e30b-3cd5-40ee-8052-540bf32249a6",
   "metadata": {},
   "outputs": [
    {
     "data": {
      "text/plain": [
       "True"
      ]
     },
     "execution_count": 27,
     "metadata": {},
     "output_type": "execute_result"
    }
   ],
   "source": [
    "'red' in colors"
   ]
  },
  {
   "cell_type": "code",
   "execution_count": 28,
   "id": "9b6fc87d-684d-4bb7-9ec4-afd94e7611a2",
   "metadata": {},
   "outputs": [
    {
     "data": {
      "text/plain": [
       "False"
      ]
     },
     "execution_count": 28,
     "metadata": {},
     "output_type": "execute_result"
    }
   ],
   "source": [
    "'purple' in colors"
   ]
  },
  {
   "cell_type": "code",
   "execution_count": 29,
   "id": "b43d5af8-f650-43c4-a63e-3f0e493a3f6a",
   "metadata": {},
   "outputs": [
    {
     "name": "stdout",
     "output_type": "stream",
     "text": [
      "RED YELLOW BLUE GREEN ORANGE "
     ]
    }
   ],
   "source": [
    "for color in colors:\n",
    "    print(color.upper(), end=' ')"
   ]
  },
  {
   "cell_type": "code",
   "execution_count": null,
   "id": "15d810de-4e1f-4ef5-8be4-db121f9690dc",
   "metadata": {},
   "outputs": [],
   "source": []
  },
  {
   "cell_type": "code",
   "execution_count": 30,
   "id": "5bfe44b6-d5ec-4842-ac3a-6fc1ab4ed912",
   "metadata": {},
   "outputs": [],
   "source": [
    "numbers = list(range(10)) + list(range(5))"
   ]
  },
  {
   "cell_type": "code",
   "execution_count": 31,
   "id": "b8d97378-04d4-432a-b348-f6d5f74668ce",
   "metadata": {},
   "outputs": [
    {
     "data": {
      "text/plain": [
       "[0, 1, 2, 3, 4, 5, 6, 7, 8, 9, 0, 1, 2, 3, 4]"
      ]
     },
     "execution_count": 31,
     "metadata": {},
     "output_type": "execute_result"
    }
   ],
   "source": [
    "numbers"
   ]
  },
  {
   "cell_type": "code",
   "execution_count": 32,
   "id": "7ce7f6b9-9f75-4a9a-b0f5-4706ebd24ea2",
   "metadata": {},
   "outputs": [
    {
     "data": {
      "text/plain": [
       "{0, 1, 2, 3, 4, 5, 6, 7, 8, 9}"
      ]
     },
     "execution_count": 32,
     "metadata": {},
     "output_type": "execute_result"
    }
   ],
   "source": [
    "set(numbers)"
   ]
  },
  {
   "cell_type": "code",
   "execution_count": 33,
   "id": "8e036271-0fe9-49a8-8a33-b0485202b226",
   "metadata": {},
   "outputs": [
    {
     "data": {
      "text/plain": [
       "set()"
      ]
     },
     "execution_count": 33,
     "metadata": {},
     "output_type": "execute_result"
    }
   ],
   "source": [
    "set()"
   ]
  },
  {
   "cell_type": "code",
   "execution_count": 34,
   "id": "17cb6765-3f79-4ade-b91b-53399425cbba",
   "metadata": {},
   "outputs": [],
   "source": [
    "#6.3.1 Comparing Sets"
   ]
  },
  {
   "cell_type": "code",
   "execution_count": 35,
   "id": "819dd13b-9b6d-4679-8e24-49174d270226",
   "metadata": {},
   "outputs": [
    {
     "data": {
      "text/plain": [
       "True"
      ]
     },
     "execution_count": 35,
     "metadata": {},
     "output_type": "execute_result"
    }
   ],
   "source": [
    "{1, 3, 5} == {3, 5, 1}"
   ]
  },
  {
   "cell_type": "code",
   "execution_count": 36,
   "id": "f0d4c0b9-5d9b-4b13-8469-5da42cd6e00a",
   "metadata": {},
   "outputs": [
    {
     "data": {
      "text/plain": [
       "False"
      ]
     },
     "execution_count": 36,
     "metadata": {},
     "output_type": "execute_result"
    }
   ],
   "source": [
    "{1, 3, 5} != {3, 5, 1}"
   ]
  },
  {
   "cell_type": "code",
   "execution_count": 38,
   "id": "6bb81862-0693-4450-a545-7b5abc2d5992",
   "metadata": {},
   "outputs": [
    {
     "data": {
      "text/plain": [
       "False"
      ]
     },
     "execution_count": 38,
     "metadata": {},
     "output_type": "execute_result"
    }
   ],
   "source": [
    "{1, 3, 5} < {3, 5, 1}"
   ]
  },
  {
   "cell_type": "code",
   "execution_count": 39,
   "id": "7f3a37ae-0f6d-46dc-bc6f-10395c08b3ee",
   "metadata": {},
   "outputs": [
    {
     "data": {
      "text/plain": [
       "True"
      ]
     },
     "execution_count": 39,
     "metadata": {},
     "output_type": "execute_result"
    }
   ],
   "source": [
    "{1, 3, 5} < {7, 3, 5, 1}"
   ]
  },
  {
   "cell_type": "code",
   "execution_count": 40,
   "id": "3ce27beb-b1cc-48d6-9f4a-d3fa538ff40b",
   "metadata": {},
   "outputs": [
    {
     "data": {
      "text/plain": [
       "True"
      ]
     },
     "execution_count": 40,
     "metadata": {},
     "output_type": "execute_result"
    }
   ],
   "source": [
    "{1, 3, 5} <= {3, 5, 1}"
   ]
  },
  {
   "cell_type": "code",
   "execution_count": 41,
   "id": "0b91c15b-8a82-4c14-a0d5-685f1738e3a8",
   "metadata": {},
   "outputs": [
    {
     "data": {
      "text/plain": [
       "True"
      ]
     },
     "execution_count": 41,
     "metadata": {},
     "output_type": "execute_result"
    }
   ],
   "source": [
    "{1, 3} <= {3, 5, 1}"
   ]
  },
  {
   "cell_type": "code",
   "execution_count": 42,
   "id": "74c9792a-d8f7-4403-9810-7007bad624cd",
   "metadata": {},
   "outputs": [
    {
     "data": {
      "text/plain": [
       "True"
      ]
     },
     "execution_count": 42,
     "metadata": {},
     "output_type": "execute_result"
    }
   ],
   "source": [
    "{1, 3, 5}.issubset({3, 5, 1})"
   ]
  },
  {
   "cell_type": "code",
   "execution_count": 43,
   "id": "7cbe58e6-8d07-4922-9976-48e4df61bf29",
   "metadata": {},
   "outputs": [
    {
     "data": {
      "text/plain": [
       "False"
      ]
     },
     "execution_count": 43,
     "metadata": {},
     "output_type": "execute_result"
    }
   ],
   "source": [
    "{1,2}.issubset({3, 5, 1})"
   ]
  },
  {
   "cell_type": "code",
   "execution_count": 44,
   "id": "634dde0c-61ce-4130-a7ee-939954609d1c",
   "metadata": {},
   "outputs": [
    {
     "data": {
      "text/plain": [
       "False"
      ]
     },
     "execution_count": 44,
     "metadata": {},
     "output_type": "execute_result"
    }
   ],
   "source": [
    "{1, 3, 5} > {3, 5, 1}"
   ]
  },
  {
   "cell_type": "code",
   "execution_count": 45,
   "id": "db67df8a-b37d-4859-8c94-4400a15afae7",
   "metadata": {},
   "outputs": [
    {
     "data": {
      "text/plain": [
       "True"
      ]
     },
     "execution_count": 45,
     "metadata": {},
     "output_type": "execute_result"
    }
   ],
   "source": [
    "{1, 3, 5, 7} > {3, 5, 1}"
   ]
  },
  {
   "cell_type": "code",
   "execution_count": 46,
   "id": "67a68870-8227-44e9-b8de-fbada45fa471",
   "metadata": {},
   "outputs": [
    {
     "data": {
      "text/plain": [
       "False"
      ]
     },
     "execution_count": 46,
     "metadata": {},
     "output_type": "execute_result"
    }
   ],
   "source": [
    "{1, 3, 5, 7} < {3, 5, 1}"
   ]
  },
  {
   "cell_type": "code",
   "execution_count": 51,
   "id": "d0cba39f-09c6-468a-9033-85f2497cc5dd",
   "metadata": {},
   "outputs": [],
   "source": [
    "# 6.3.2 Mathematical Set Operations"
   ]
  },
  {
   "cell_type": "code",
   "execution_count": 52,
   "id": "c0010865-5cb2-434d-905a-9919424f568d",
   "metadata": {},
   "outputs": [],
   "source": [
    "#union\n",
    "#groups the two sets together, but ignores duplicates"
   ]
  },
  {
   "cell_type": "code",
   "execution_count": 48,
   "id": "badffb83-3dd2-4d4c-88f9-e2c59a256b9b",
   "metadata": {},
   "outputs": [
    {
     "data": {
      "text/plain": [
       "{1, 2, 3, 4, 5}"
      ]
     },
     "execution_count": 48,
     "metadata": {},
     "output_type": "execute_result"
    }
   ],
   "source": [
    "{1, 3, 5} | {2, 3, 4}"
   ]
  },
  {
   "cell_type": "code",
   "execution_count": 50,
   "id": "003459de-10a1-4602-b14b-a1e5e0417ac2",
   "metadata": {},
   "outputs": [
    {
     "data": {
      "text/plain": [
       "{1, 3, 5, 20, 40}"
      ]
     },
     "execution_count": 50,
     "metadata": {},
     "output_type": "execute_result"
    }
   ],
   "source": [
    "{1, 3, 5}.union([20, 20, 3, 40, 40])"
   ]
  },
  {
   "cell_type": "code",
   "execution_count": 58,
   "id": "8e585ca4-7e86-48f2-bd38-33b9b27c12b5",
   "metadata": {},
   "outputs": [],
   "source": [
    "#intersection\n",
    "#finds the elements in both sets"
   ]
  },
  {
   "cell_type": "code",
   "execution_count": 54,
   "id": "5d4b9321-0d04-4360-a9cb-e9a88afd3cd9",
   "metadata": {},
   "outputs": [
    {
     "data": {
      "text/plain": [
       "{3}"
      ]
     },
     "execution_count": 54,
     "metadata": {},
     "output_type": "execute_result"
    }
   ],
   "source": [
    "{1, 3, 5} & {2, 3, 4}"
   ]
  },
  {
   "cell_type": "code",
   "execution_count": 56,
   "id": "7951b4d9-9e65-4647-84cc-6b840bfad3bd",
   "metadata": {},
   "outputs": [
    {
     "data": {
      "text/plain": [
       "{1, 3}"
      ]
     },
     "execution_count": 56,
     "metadata": {},
     "output_type": "execute_result"
    }
   ],
   "source": [
    "{1, 3, 5}.intersection([1, 2, 2, 3, 3, 4, 4])"
   ]
  },
  {
   "cell_type": "code",
   "execution_count": 62,
   "id": "50541057-abf0-437c-b15e-47d5555b19db",
   "metadata": {},
   "outputs": [],
   "source": [
    "#Difference\n",
    "#what in the left operand (set) that isn't in the right operand (set)"
   ]
  },
  {
   "cell_type": "code",
   "execution_count": 60,
   "id": "5ba4a714-e121-4482-8ba7-28484be6472a",
   "metadata": {},
   "outputs": [
    {
     "data": {
      "text/plain": [
       "{1, 5}"
      ]
     },
     "execution_count": 60,
     "metadata": {},
     "output_type": "execute_result"
    }
   ],
   "source": [
    "{1, 3, 5} - {2, 3, 4}"
   ]
  },
  {
   "cell_type": "code",
   "execution_count": 64,
   "id": "ce3a218b-976f-4092-bc57-a856e34b0dae",
   "metadata": {},
   "outputs": [],
   "source": [
    "#Symmetric Difference\n",
    "#opposite of intersection, finds the unique (non-duplicated) elements of each set"
   ]
  },
  {
   "cell_type": "code",
   "execution_count": 65,
   "id": "a57e6df8-3892-441e-af1e-5ec1a26e5c6d",
   "metadata": {},
   "outputs": [
    {
     "data": {
      "text/plain": [
       "{1, 2, 4, 5}"
      ]
     },
     "execution_count": 65,
     "metadata": {},
     "output_type": "execute_result"
    }
   ],
   "source": [
    "{1, 3, 5} ^ {2, 3, 4}"
   ]
  },
  {
   "cell_type": "code",
   "execution_count": 66,
   "id": "fa33da89-7f8d-4678-baf6-76e231c79e95",
   "metadata": {},
   "outputs": [
    {
     "data": {
      "text/plain": [
       "{1, 2, 4, 5, 7}"
      ]
     },
     "execution_count": 66,
     "metadata": {},
     "output_type": "execute_result"
    }
   ],
   "source": [
    "{1, 3, 5, 7}.symmetric_difference({2, 2, 3, 3, 4, 4})"
   ]
  },
  {
   "cell_type": "code",
   "execution_count": 70,
   "id": "9b65b1fb-e297-4a5b-b81b-b836caaf69c2",
   "metadata": {},
   "outputs": [],
   "source": [
    "#disjoint\n",
    "#returns \"true\" if the two sets do not have any (even 1) common elements\n",
    "#returns \"false\" if the two sets have any (even 1) common elements"
   ]
  },
  {
   "cell_type": "code",
   "execution_count": 73,
   "id": "8b077810-87ae-4ac1-beda-ce3c68ad7d3c",
   "metadata": {},
   "outputs": [
    {
     "data": {
      "text/plain": [
       "True"
      ]
     },
     "execution_count": 73,
     "metadata": {},
     "output_type": "execute_result"
    }
   ],
   "source": [
    "{1, 3, 5}.isdisjoint({2, 4, 6})"
   ]
  },
  {
   "cell_type": "code",
   "execution_count": 75,
   "id": "28584993-7788-4942-97fa-b30ae867fb2e",
   "metadata": {},
   "outputs": [
    {
     "data": {
      "text/plain": [
       "False"
      ]
     },
     "execution_count": 75,
     "metadata": {},
     "output_type": "execute_result"
    }
   ],
   "source": [
    "{1, 3, 5}.isdisjoint({2, 4, 6, 1})\n",
    "#both sets contain 1 so the question of \"are the two sets disjointed?\" is no, returns false"
   ]
  },
  {
   "cell_type": "code",
   "execution_count": 76,
   "id": "06c4c148-c411-452c-bd46-5dd92cf14c63",
   "metadata": {},
   "outputs": [],
   "source": [
    "#6.3.3 Mutable Set Operators and Methods"
   ]
  },
  {
   "cell_type": "code",
   "execution_count": 77,
   "id": "9af940c2-5a3c-4ce3-a13e-2d7dc7806ece",
   "metadata": {},
   "outputs": [],
   "source": [
    "numbers = {1, 3, 5}\n"
   ]
  },
  {
   "cell_type": "code",
   "execution_count": 78,
   "id": "3d5d9ea8-2be6-46bb-bc43-27a4a56c8666",
   "metadata": {},
   "outputs": [],
   "source": [
    "numbers |= {2, 3, 4}"
   ]
  },
  {
   "cell_type": "code",
   "execution_count": 79,
   "id": "b7b9c8a3-a19d-44c6-a72e-154721d4f988",
   "metadata": {},
   "outputs": [
    {
     "data": {
      "text/plain": [
       "{1, 2, 3, 4, 5}"
      ]
     },
     "execution_count": 79,
     "metadata": {},
     "output_type": "execute_result"
    }
   ],
   "source": [
    "numbers"
   ]
  },
  {
   "cell_type": "code",
   "execution_count": 80,
   "id": "2282fe4f-98fb-4e87-9d32-1e05d6d03bc3",
   "metadata": {},
   "outputs": [],
   "source": [
    "numbers.update(range(10))"
   ]
  },
  {
   "cell_type": "code",
   "execution_count": 81,
   "id": "a3aca93c-6751-423a-a721-34d0fe8cf17a",
   "metadata": {},
   "outputs": [
    {
     "data": {
      "text/plain": [
       "{0, 1, 2, 3, 4, 5, 6, 7, 8, 9}"
      ]
     },
     "execution_count": 81,
     "metadata": {},
     "output_type": "execute_result"
    }
   ],
   "source": [
    "numbers"
   ]
  },
  {
   "cell_type": "code",
   "execution_count": 90,
   "id": "93455298-f55b-4bc2-8171-09cb7e77377a",
   "metadata": {},
   "outputs": [],
   "source": [
    "numbers.add(17)\n",
    "#Adds the number 17 to the set"
   ]
  },
  {
   "cell_type": "code",
   "execution_count": 91,
   "id": "751f19dd-4aa1-4ca7-9369-47f9c65dff78",
   "metadata": {},
   "outputs": [],
   "source": [
    "numbers.add(3)\n",
    "# the number 3 already exists in the set so it isn't added"
   ]
  },
  {
   "cell_type": "code",
   "execution_count": 92,
   "id": "bddd4afd-8092-4c2b-9323-c4d30405f3d2",
   "metadata": {},
   "outputs": [
    {
     "data": {
      "text/plain": [
       "{0, 1, 2, 3, 4, 5, 6, 7, 8, 9, 17}"
      ]
     },
     "execution_count": 92,
     "metadata": {},
     "output_type": "execute_result"
    }
   ],
   "source": [
    "numbers"
   ]
  },
  {
   "cell_type": "code",
   "execution_count": 93,
   "id": "d5fb4f1c-a438-4d8f-b8f2-47c1c3914d93",
   "metadata": {},
   "outputs": [],
   "source": [
    "numbers.remove(3)"
   ]
  },
  {
   "cell_type": "code",
   "execution_count": 94,
   "id": "97c2062d-ee39-401c-81e3-640e589a0604",
   "metadata": {},
   "outputs": [
    {
     "data": {
      "text/plain": [
       "{0, 1, 2, 4, 5, 6, 7, 8, 9, 17}"
      ]
     },
     "execution_count": 94,
     "metadata": {},
     "output_type": "execute_result"
    }
   ],
   "source": [
    "numbers"
   ]
  },
  {
   "cell_type": "code",
   "execution_count": 95,
   "id": "45bf756d-1d11-426d-83c4-9775c029bbb6",
   "metadata": {},
   "outputs": [],
   "source": [
    "# number 3 is removed from set"
   ]
  },
  {
   "cell_type": "code",
   "execution_count": 96,
   "id": "20739632-cbec-4251-9891-cf77bcedbce3",
   "metadata": {},
   "outputs": [
    {
     "data": {
      "text/plain": [
       "0"
      ]
     },
     "execution_count": 96,
     "metadata": {},
     "output_type": "execute_result"
    }
   ],
   "source": [
    "numbers.pop()"
   ]
  },
  {
   "cell_type": "code",
   "execution_count": 97,
   "id": "2b18ba49-ddf3-4d95-9d4b-be3a6aec9246",
   "metadata": {},
   "outputs": [
    {
     "data": {
      "text/plain": [
       "{1, 2, 4, 5, 6, 7, 8, 9, 17}"
      ]
     },
     "execution_count": 97,
     "metadata": {},
     "output_type": "execute_result"
    }
   ],
   "source": [
    "numbers"
   ]
  },
  {
   "cell_type": "code",
   "execution_count": 98,
   "id": "6b05a139-07c0-4b55-87ba-9f3df6884cf5",
   "metadata": {},
   "outputs": [],
   "source": [
    "numbers.clear()"
   ]
  },
  {
   "cell_type": "code",
   "execution_count": 99,
   "id": "340fd4d9-1de2-4794-949e-5dffbcc5ea9a",
   "metadata": {},
   "outputs": [
    {
     "data": {
      "text/plain": [
       "set()"
      ]
     },
     "execution_count": 99,
     "metadata": {},
     "output_type": "execute_result"
    }
   ],
   "source": [
    "numbers"
   ]
  },
  {
   "cell_type": "code",
   "execution_count": 100,
   "id": "83f82a99-94f4-423d-bdfb-e57ca4727b7c",
   "metadata": {},
   "outputs": [],
   "source": [
    "numbers = [1, 2, 2, 3, 4, 5, 6, 6, 7, 8 , 9, 10, 10]"
   ]
  },
  {
   "cell_type": "code",
   "execution_count": 101,
   "id": "85531c3b-c726-4de3-b39c-7bd051fa735c",
   "metadata": {},
   "outputs": [],
   "source": [
    "evens = {item for item in numbers if item % 2 == 0}"
   ]
  },
  {
   "cell_type": "code",
   "execution_count": 102,
   "id": "ee4786f7-afa7-4108-b3c3-b970b55c7026",
   "metadata": {},
   "outputs": [
    {
     "data": {
      "text/plain": [
       "{2, 4, 6, 8, 10}"
      ]
     },
     "execution_count": 102,
     "metadata": {},
     "output_type": "execute_result"
    }
   ],
   "source": [
    "evens"
   ]
  },
  {
   "cell_type": "code",
   "execution_count": 103,
   "id": "c87212d2-2729-495a-bf9b-f5da5d7d9179",
   "metadata": {},
   "outputs": [],
   "source": [
    "#Cameron Landon 9/14/2022 10:11 PM"
   ]
  },
  {
   "cell_type": "code",
   "execution_count": null,
   "id": "531fe377-fad2-4bb8-9ade-70c0ed4cf20e",
   "metadata": {},
   "outputs": [],
   "source": []
  }
 ],
 "metadata": {
  "kernelspec": {
   "display_name": "Python 3 (ipykernel)",
   "language": "python",
   "name": "python3"
  },
  "language_info": {
   "codemirror_mode": {
    "name": "ipython",
    "version": 3
   },
   "file_extension": ".py",
   "mimetype": "text/x-python",
   "name": "python",
   "nbconvert_exporter": "python",
   "pygments_lexer": "ipython3",
   "version": "3.9.12"
  }
 },
 "nbformat": 4,
 "nbformat_minor": 5
}
